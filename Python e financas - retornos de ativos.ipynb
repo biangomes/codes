{
 "cells": [
  {
   "cell_type": "markdown",
   "id": "palestinian-jacket",
   "metadata": {},
   "source": [
    "# Série \"Python e finanças\": conhecendo os tipos de retornos de ativos e como calculá-los em Python"
   ]
  },
  {
   "cell_type": "markdown",
   "id": "bulgarian-secretariat",
   "metadata": {},
   "source": [
    "Atire a primeira pedra quem nunca quis ganhar dinheiro sem se expor!\n",
    "\n",
    "Embora seja a minha vontade e a sua (não adianta tentar me enganar!), estes dois conceitos financeiros andam de **mãos dadas**. \n",
    "\n",
    "Vejamos dois exemplos: renda fixa e renda variável. Em 2019, a taxa de juros básica, a famosa Selic, estava sendo projetada para $4,75%$ ao ano, segundo o Relatório de Mercado Focus. Já em 2020, o Banco Central determinou a menor taxa da história, com apenas 2%. Acontece que a Selic é um exemplo de aplicação de renda fixa e, veja bem, foi prometido um retorno anual de 2%."
   ]
  }
 ],
 "metadata": {
  "kernelspec": {
   "display_name": "Python 3",
   "language": "python",
   "name": "python3"
  },
  "language_info": {
   "codemirror_mode": {
    "name": "ipython",
    "version": 3
   },
   "file_extension": ".py",
   "mimetype": "text/x-python",
   "name": "python",
   "nbconvert_exporter": "python",
   "pygments_lexer": "ipython3",
   "version": "3.8.5"
  }
 },
 "nbformat": 4,
 "nbformat_minor": 5
}
