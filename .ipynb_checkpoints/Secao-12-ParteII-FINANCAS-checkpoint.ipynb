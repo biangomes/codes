{
 "cells": [
  {
   "cell_type": "markdown",
   "id": "binary-administrator",
   "metadata": {},
   "source": [
    "# Seção 12: Medindo o risco de um investimento"
   ]
  },
  {
   "cell_type": "markdown",
   "id": "israeli-rebecca",
   "metadata": {},
   "source": [
    "### Aula 69: como medir o risco de um ativo"
   ]
  },
  {
   "cell_type": "markdown",
   "id": "spoken-perth",
   "metadata": {},
   "source": [
    "Suponha que você invista o capital de 1.000,00 dólares em uma ação que, em **média**, valorizou 15%. Como é média, seria interessante sabermos como foi o comportamento deste ativo em cada ano. Se os dados dispersaram muito da média (+50, -20, -20, +50) ou se estiveram em volta dela (+14, +16, +13, +17).\n",
    "\n",
    "Dito isso, concluimos que **volatilidade (variabilidade)** é uma variável importante para a análise.\n",
    "\n",
    "As medidas estatísticas, como variância e desvio padrão, podem ajudar a quantificar o risco envolvido.\n",
    "\n",
    "A variância $S^{2}$ mede **a dispersão de um conj. de pontos de dados em torno da média**.\n",
    "\n",
    "$$ S^{2} = \\frac {\\Sigma {(X - X'^{2})}} {N - 1} $$\n",
    "\n",
    "em que $X'$ é a **média**.\n",
    "\n",
    "Já o desvio padrão é medido:\n",
    "\n",
    "$$ S =  \\sqrt {S^{2}} $$"
   ]
  },
  {
   "cell_type": "markdown",
   "id": "surrounded-thesis",
   "metadata": {},
   "source": [
    "### Aula 70: medindo o risco de um ativo em Python"
   ]
  },
  {
   "cell_type": "code",
   "execution_count": 1,
   "id": "minor-board",
   "metadata": {},
   "outputs": [],
   "source": [
    "# Import libs\n",
    "import numpy as np\n",
    "import pandas as pd\n",
    "from pandas_datareader import data as web\n",
    "import matplotlib.pyplot as plt"
   ]
  },
  {
   "cell_type": "markdown",
   "id": "political-extreme",
   "metadata": {},
   "source": [
    "#### Utilizando a Procters & Gamble (PG) e a BEIERSDORF (BEI.DE)"
   ]
  },
  {
   "cell_type": "code",
   "execution_count": 2,
   "id": "complicated-jefferson",
   "metadata": {},
   "outputs": [],
   "source": [
    "tickers = ['PG', 'BEI.DE']\n",
    "\n",
    "sec_data = pd.DataFrame()\n",
    "\n",
    "for t in tickers:\n",
    "    sec_data[t] = web.DataReader(t, data_source='yahoo', start='2007-1-1')['Adj Close']"
   ]
  },
  {
   "cell_type": "code",
   "execution_count": 3,
   "id": "modular-pocket",
   "metadata": {
    "scrolled": true
   },
   "outputs": [
    {
     "data": {
      "text/html": [
       "<div>\n",
       "<style scoped>\n",
       "    .dataframe tbody tr th:only-of-type {\n",
       "        vertical-align: middle;\n",
       "    }\n",
       "\n",
       "    .dataframe tbody tr th {\n",
       "        vertical-align: top;\n",
       "    }\n",
       "\n",
       "    .dataframe thead th {\n",
       "        text-align: right;\n",
       "    }\n",
       "</style>\n",
       "<table border=\"1\" class=\"dataframe\">\n",
       "  <thead>\n",
       "    <tr style=\"text-align: right;\">\n",
       "      <th></th>\n",
       "      <th>PG</th>\n",
       "      <th>BEI.DE</th>\n",
       "    </tr>\n",
       "    <tr>\n",
       "      <th>Date</th>\n",
       "      <th></th>\n",
       "      <th></th>\n",
       "    </tr>\n",
       "  </thead>\n",
       "  <tbody>\n",
       "    <tr>\n",
       "      <th>2007-01-03</th>\n",
       "      <td>NaN</td>\n",
       "      <td>NaN</td>\n",
       "    </tr>\n",
       "    <tr>\n",
       "      <th>2007-01-04</th>\n",
       "      <td>-0.007621</td>\n",
       "      <td>0.006544</td>\n",
       "    </tr>\n",
       "    <tr>\n",
       "      <th>2007-01-05</th>\n",
       "      <td>-0.008624</td>\n",
       "      <td>-0.020772</td>\n",
       "    </tr>\n",
       "    <tr>\n",
       "      <th>2007-01-08</th>\n",
       "      <td>0.002202</td>\n",
       "      <td>0.000202</td>\n",
       "    </tr>\n",
       "    <tr>\n",
       "      <th>2007-01-09</th>\n",
       "      <td>-0.002517</td>\n",
       "      <td>-0.022858</td>\n",
       "    </tr>\n",
       "    <tr>\n",
       "      <th>...</th>\n",
       "      <td>...</td>\n",
       "      <td>...</td>\n",
       "    </tr>\n",
       "    <tr>\n",
       "      <th>2021-04-19</th>\n",
       "      <td>-0.004674</td>\n",
       "      <td>0.006317</td>\n",
       "    </tr>\n",
       "    <tr>\n",
       "      <th>2021-04-20</th>\n",
       "      <td>0.008310</td>\n",
       "      <td>-0.013335</td>\n",
       "    </tr>\n",
       "    <tr>\n",
       "      <th>2021-04-21</th>\n",
       "      <td>-0.006555</td>\n",
       "      <td>0.008110</td>\n",
       "    </tr>\n",
       "    <tr>\n",
       "      <th>2021-04-22</th>\n",
       "      <td>-0.009978</td>\n",
       "      <td>0.006094</td>\n",
       "    </tr>\n",
       "    <tr>\n",
       "      <th>2021-04-23</th>\n",
       "      <td>-0.005138</td>\n",
       "      <td>-0.009592</td>\n",
       "    </tr>\n",
       "  </tbody>\n",
       "</table>\n",
       "<p>3602 rows × 2 columns</p>\n",
       "</div>"
      ],
      "text/plain": [
       "                  PG    BEI.DE\n",
       "Date                          \n",
       "2007-01-03       NaN       NaN\n",
       "2007-01-04 -0.007621  0.006544\n",
       "2007-01-05 -0.008624 -0.020772\n",
       "2007-01-08  0.002202  0.000202\n",
       "2007-01-09 -0.002517 -0.022858\n",
       "...              ...       ...\n",
       "2021-04-19 -0.004674  0.006317\n",
       "2021-04-20  0.008310 -0.013335\n",
       "2021-04-21 -0.006555  0.008110\n",
       "2021-04-22 -0.009978  0.006094\n",
       "2021-04-23 -0.005138 -0.009592\n",
       "\n",
       "[3602 rows x 2 columns]"
      ]
     },
     "execution_count": 3,
     "metadata": {},
     "output_type": "execute_result"
    }
   ],
   "source": [
    "# O desvio padrao dos retornos da empresa também podem ser chamados de\n",
    "# riscos ou volatilidade\n",
    "sec_returns = np.log(sec_data / sec_data.shift(1))\n",
    "\n",
    "sec_returns"
   ]
  },
  {
   "cell_type": "markdown",
   "id": "communist-carroll",
   "metadata": {},
   "source": [
    "#### PG"
   ]
  },
  {
   "cell_type": "code",
   "execution_count": 4,
   "id": "legal-christmas",
   "metadata": {},
   "outputs": [
    {
     "data": {
      "text/plain": [
       "0.00032132272902340363"
      ]
     },
     "execution_count": 4,
     "metadata": {},
     "output_type": "execute_result"
    }
   ],
   "source": [
    "# Retorno medio diario\n",
    "sec_returns['PG'].mean()"
   ]
  },
  {
   "cell_type": "code",
   "execution_count": 5,
   "id": "first-pointer",
   "metadata": {},
   "outputs": [
    {
     "data": {
      "text/plain": [
       "0.08033068225585091"
      ]
     },
     "execution_count": 5,
     "metadata": {},
     "output_type": "execute_result"
    }
   ],
   "source": [
    "# Retorno medio anualizado\n",
    "sec_returns['PG'].mean() * 250"
   ]
  },
  {
   "cell_type": "code",
   "execution_count": 6,
   "id": "defensive-merchandise",
   "metadata": {},
   "outputs": [
    {
     "data": {
      "text/plain": [
       "0.01184883020246616"
      ]
     },
     "execution_count": 6,
     "metadata": {},
     "output_type": "execute_result"
    }
   ],
   "source": [
    "# Desvio padrao, risco ou volatilidade da PG\n",
    "sec_returns['PG'].std()"
   ]
  },
  {
   "cell_type": "code",
   "execution_count": 7,
   "id": "continuous-collector",
   "metadata": {},
   "outputs": [
    {
     "data": {
      "text/plain": [
       "0.18734645524193555"
      ]
     },
     "execution_count": 7,
     "metadata": {},
     "output_type": "execute_result"
    }
   ],
   "source": [
    "# Toda vez que anualizarmos o desvio padrao precisamos tirar\n",
    "# a raiz quadrada de 250\n",
    "sec_returns['PG'].std() * 250 ** 0.5"
   ]
  },
  {
   "cell_type": "markdown",
   "id": "medical-invalid",
   "metadata": {},
   "source": [
    "#### BEI.DE"
   ]
  },
  {
   "cell_type": "code",
   "execution_count": 8,
   "id": "developmental-syndicate",
   "metadata": {},
   "outputs": [
    {
     "data": {
      "text/plain": [
       "0.21885046308035114"
      ]
     },
     "execution_count": 8,
     "metadata": {},
     "output_type": "execute_result"
    }
   ],
   "source": [
    "sec_returns['BEI.DE'].mean() * 250\n",
    "\n",
    "# Desvio padrao\n",
    "sec_returns['BEI.DE'].std()\n",
    "\n",
    "# Desvio padrao anualizado\n",
    "sec_returns['BEI.DE'].std() * 250 ** 0.5"
   ]
  },
  {
   "cell_type": "markdown",
   "id": "welsh-insured",
   "metadata": {},
   "source": [
    "#### As duas, comparando-as."
   ]
  },
  {
   "cell_type": "code",
   "execution_count": 9,
   "id": "former-illness",
   "metadata": {},
   "outputs": [
    {
     "name": "stdout",
     "output_type": "stream",
     "text": [
      "Retorno médio anual da PG: 0.08033068225585091\n",
      "Retorno médio anual da BEI.DE: 0.05218276567655324\n"
     ]
    }
   ],
   "source": [
    "print(f\"Retorno médio anual da PG: {sec_returns['PG'].mean() * 250}\")\n",
    "\n",
    "print(f\"Retorno médio anual da BEI.DE: {sec_returns['BEI.DE'].mean() * 250}\")"
   ]
  },
  {
   "cell_type": "code",
   "execution_count": 10,
   "id": "fancy-medium",
   "metadata": {},
   "outputs": [
    {
     "data": {
      "text/plain": [
       "PG        0.080331\n",
       "BEI.DE    0.052183\n",
       "dtype: float64"
      ]
     },
     "execution_count": 10,
     "metadata": {},
     "output_type": "execute_result"
    }
   ],
   "source": [
    "# Fazendo oq foi feito só q de forma mais prática\n",
    "sec_returns[['PG', 'BEI.DE']].mean() * 250"
   ]
  },
  {
   "cell_type": "code",
   "execution_count": 11,
   "id": "organized-dividend",
   "metadata": {},
   "outputs": [
    {
     "data": {
      "text/plain": [
       "PG        0.187346\n",
       "BEI.DE    0.218850\n",
       "dtype: float64"
      ]
     },
     "execution_count": 11,
     "metadata": {},
     "output_type": "execute_result"
    }
   ],
   "source": [
    "sec_returns[['PG', 'BEI.DE']].std() * 250 ** 0.5"
   ]
  },
  {
   "cell_type": "markdown",
   "id": "adolescent-difference",
   "metadata": {},
   "source": [
    "### Aula 71: as vantagens da diversificação de um portfólio"
   ]
  },
  {
   "cell_type": "markdown",
   "id": "recreational-movie",
   "metadata": {},
   "source": [
    "- É melhor investir em presas que operam em segmentos diferentes\n",
    "\n",
    "- Existe uma relação entre os preços das empresas.\n",
    "\n",
    "**O coeficiente de correlação mede a relação (força e direção) entre duas variáveis**, dado pela seguinte fórmula:\n",
    "\n",
    "$$ \\rho_{xy} = \\frac {(x - x') * (y - y')} {\\sigma_{x} \\sigma_{y}} $$\n",
    "\n",
    "em que $\\rho_{xy}$ é o coeficiente de correlação, $x'$ e $y'$ são as médias de cada variável.\n",
    "\n",
    "A **interpretação por de trás de $\\rho_{xy}$**:\n",
    "\n",
    "- $\\rho_{xy} > 0 \\rightarrow $ as duas variáveis têm comportamentos semelhantes, ou seja, as duas aumentam (ou diminuem) simultaneamente (não de forma proporcional, necessariamente);\n",
    "\n",
    "- $\\rho_{xy} < 0 \\rightarrow $ as duas variáveis possuem comportamentos opostos. Enquanto uma caminha para uma direção, a outra segue direção contrária.\n",
    "\n",
    "- $\\rho_{xy} = 0 \\rightarrow $ as duas variáveis são **independentes**.\n",
    "\n",
    "Sendo assim, podemos dizer que a covariância mostra uma **tendência na relação linear entre as variáveis e a força dessa relação entre elas**.\n",
    "\n",
    "**Correlação negativa:**\n",
    "\n",
    "Correlação = -1 $\\rightarrow$ correlação perfeitamente negativa\n",
    "\n",
    "Correlação entre -1 e 0 $\\rightarrow$ correlação negativa imperfeita.\n",
    "\n",
    "**Correlação positiva:**\n",
    "\n",
    "Correlação = 1 $\\rightarrow$ correlação perfeitamente positiva\n",
    "\n",
    "Correlação entre 0 e 1 $\\rightarrow$ correlação positiva imperfeita"
   ]
  },
  {
   "cell_type": "markdown",
   "id": "valuable-inspection",
   "metadata": {},
   "source": [
    "### Aula 73: calculando covariância e a correlação usando Python"
   ]
  },
  {
   "attachments": {
    "matriz-covariancia.png": {
     "image/png": "[encoded data removed]"
    }
   },
   "cell_type": "markdown",
   "id": "wrapped-neutral",
   "metadata": {},
   "source": [
    "![matriz-covariancia.png](attachment:matriz-covariancia.png)"
   ]
  },
  {
   "cell_type": "code",
   "execution_count": 12,
   "id": "bulgarian-clause",
   "metadata": {
    "scrolled": true
   },
   "outputs": [],
   "source": [
    "# variancia procter & gamble\n",
    "v_pg = sec_returns['PG'].var()\n",
    "v_pg\n",
    "\n",
    "# variancia beider.de\n",
    "v_bd = sec_returns['BEI.DE'].var()\n",
    "v_bd\n",
    "\n",
    "# anualizando\n",
    "v_pg = sec_returns['BEI.DE'].var() * 250\n",
    "v_bd = sec_returns['PG'].var() * 250"
   ]
  },
  {
   "cell_type": "code",
   "execution_count": 13,
   "id": "danish-savings",
   "metadata": {},
   "outputs": [
    {
     "data": {
      "text/html": [
       "<div>\n",
       "<style scoped>\n",
       "    .dataframe tbody tr th:only-of-type {\n",
       "        vertical-align: middle;\n",
       "    }\n",
       "\n",
       "    .dataframe tbody tr th {\n",
       "        vertical-align: top;\n",
       "    }\n",
       "\n",
       "    .dataframe thead th {\n",
       "        text-align: right;\n",
       "    }\n",
       "</style>\n",
       "<table border=\"1\" class=\"dataframe\">\n",
       "  <thead>\n",
       "    <tr style=\"text-align: right;\">\n",
       "      <th></th>\n",
       "      <th>PG</th>\n",
       "      <th>BEI.DE</th>\n",
       "    </tr>\n",
       "  </thead>\n",
       "  <tbody>\n",
       "    <tr>\n",
       "      <th>PG</th>\n",
       "      <td>0.035099</td>\n",
       "      <td>0.011097</td>\n",
       "    </tr>\n",
       "    <tr>\n",
       "      <th>BEI.DE</th>\n",
       "      <td>0.011097</td>\n",
       "      <td>0.047896</td>\n",
       "    </tr>\n",
       "  </tbody>\n",
       "</table>\n",
       "</div>"
      ],
      "text/plain": [
       "              PG    BEI.DE\n",
       "PG      0.035099  0.011097\n",
       "BEI.DE  0.011097  0.047896"
      ]
     },
     "execution_count": 13,
     "metadata": {},
     "output_type": "execute_result"
    }
   ],
   "source": [
    "# covariancia PG\n",
    "# nao precisa analisar para PG e BEI.DE, pois\n",
    "# o resultado eh um numero escalar\n",
    "cov_matrix = sec_returns.cov()\n",
    "\n",
    "# covariancia anual\n",
    "cov_matrix_a = sec_returns.cov() * 250\n",
    "\n",
    "cov_matrix_a"
   ]
  },
  {
   "cell_type": "code",
   "execution_count": 14,
   "id": "thrown-joseph",
   "metadata": {},
   "outputs": [
    {
     "data": {
      "text/html": [
       "<div>\n",
       "<style scoped>\n",
       "    .dataframe tbody tr th:only-of-type {\n",
       "        vertical-align: middle;\n",
       "    }\n",
       "\n",
       "    .dataframe tbody tr th {\n",
       "        vertical-align: top;\n",
       "    }\n",
       "\n",
       "    .dataframe thead th {\n",
       "        text-align: right;\n",
       "    }\n",
       "</style>\n",
       "<table border=\"1\" class=\"dataframe\">\n",
       "  <thead>\n",
       "    <tr style=\"text-align: right;\">\n",
       "      <th></th>\n",
       "      <th>PG</th>\n",
       "      <th>BEI.DE</th>\n",
       "    </tr>\n",
       "  </thead>\n",
       "  <tbody>\n",
       "    <tr>\n",
       "      <th>PG</th>\n",
       "      <td>1.000000</td>\n",
       "      <td>0.270274</td>\n",
       "    </tr>\n",
       "    <tr>\n",
       "      <th>BEI.DE</th>\n",
       "      <td>0.270274</td>\n",
       "      <td>1.000000</td>\n",
       "    </tr>\n",
       "  </tbody>\n",
       "</table>\n",
       "</div>"
      ],
      "text/plain": [
       "              PG    BEI.DE\n",
       "PG      1.000000  0.270274\n",
       "BEI.DE  0.270274  1.000000"
      ]
     },
     "execution_count": 14,
     "metadata": {},
     "output_type": "execute_result"
    }
   ],
   "source": [
    "# calculando a correlacao\n",
    "corr_matrix = sec_returns.corr()\n",
    "corr_matrix"
   ]
  },
  {
   "cell_type": "markdown",
   "id": "stuck-andrew",
   "metadata": {},
   "source": [
    "A correlação acima não é a correlação dos PREÇOS e sim dos **RETORNOS**."
   ]
  },
  {
   "cell_type": "markdown",
   "id": "precious-evidence",
   "metadata": {},
   "source": [
    "Fórmula da correlação: $$ \\frac {cov(x,x)} {s(x) * s(x)} = \\frac {var(x)} {var(x)} $$"
   ]
  },
  {
   "cell_type": "markdown",
   "id": "violent-magic",
   "metadata": {},
   "source": [
    "### Aula 75: considerando o risco de múltiplos ativos em um portfólio"
   ]
  },
  {
   "cell_type": "markdown",
   "id": "absolute-harbor",
   "metadata": {},
   "source": [
    "**Portfólio de ações:** carteira que tem pelo menos duas ações.\n",
    "\n",
    "Supondo que um portfólio tenha apenas duas ações, então o risco dessa carteira será dada por uma função dos seus pesos e variâncias.\n",
    "\n",
    "A **variância de um portfólio de ações** é dada por:\n",
    "\n",
    "$$ {(w_{1} \\sigma_{1} + w_{2} \\sigma_{2})}^2 = w_{1}^2 \\sigma_{1}^2 + 2w_{1}\\sigma_{1}w_{2}\\sigma_{2} \\rho_{12} + w_{2}^2 \\sigma_{2}^2$$\n",
    "\n",
    "em que:\n",
    "\n",
    "$w_{1} + w_{2} = 1 $;\n",
    "\n",
    "$\\rho_{1}:$ variância do retorno dos dois ativos;\n",
    "\n",
    "$w_{1}, w_{2}:$ peso do ativo 1, peso do ativo 2;\n",
    "\n",
    "$\\sigma_{1}, \\sigma_{2}:$ variância do ativo 1, variância do ativo 2;"
   ]
  },
  {
   "cell_type": "markdown",
   "id": "efficient-trick",
   "metadata": {},
   "source": [
    "### Aula 76: calculando o risco de um portfólio"
   ]
  },
  {
   "cell_type": "code",
   "execution_count": 15,
   "id": "portuguese-courtesy",
   "metadata": {},
   "outputs": [],
   "source": [
    "\"\"\"\n",
    "Ativos: PG, BEI.DE\n",
    "Fonte de dados: yahoo\n",
    "Início: 2007-1-1\n",
    "\"\"\"\n",
    "pesos = np.array([0.5, 0.5])"
   ]
  },
  {
   "cell_type": "markdown",
   "id": "colored-starter",
   "metadata": {},
   "source": [
    "A variável `pesos` deve ser uma matriz. Lembrando das aulas de Álgebra Linear, para calcularmos matrizes e obtermos um número escalar, precisamos da matriz transposta. Veja abaixo como fica:\n",
    "\n",
    "$$ (a.b)^2 = a^{2}b^{2}\n",
    "\\rightarrow (aB)^2 = a^{T}Ba\n",
    "$$\n",
    "\n",
    "Em `Python`, podemos utilizar o `np.dot()`."
   ]
  },
  {
   "cell_type": "code",
   "execution_count": 22,
   "id": "brief-stanley",
   "metadata": {},
   "outputs": [
    {
     "name": "stdout",
     "output_type": "stream",
     "text": [
      "Variância do portfólio: 2.63%\n",
      "Volatilidade do portfólio: 16.216%\n"
     ]
    }
   ],
   "source": [
    "# Variancia do portfolio\n",
    "var_portfolio = np.dot(pesos.T, np.dot(sec_returns.cov() * 250, pesos))\n",
    "var_portfolio\n",
    "\n",
    "# Vol portfolio\n",
    "vol_portfolio = (np.dot(pesos.T, np.dot(sec_returns.cov() * 250, pesos))) ** 0.5\n",
    "print(f\"Variância do portfólio: {str(round(var_portfolio, 5) * 100)}%\\nVolatilidade do portfólio: {str(round(vol_portfolio, 5) * 100)}%\")"
   ]
  },
  {
   "cell_type": "markdown",
   "id": "informal-guatemala",
   "metadata": {},
   "source": [
    "### Aula 77: entendendo o risco sistemático (diversificável) e o risco idiossincrático (não-diversificável)"
   ]
  },
  {
   "cell_type": "markdown",
   "id": "bound-chassis",
   "metadata": {},
   "source": [
    "**Risco sistemático:** risco que não pode ser diversificado. Exemplos: recessão econômica, redução dos gastos, guerras, desastres naturais. Ou seja, tudo que não pode ser controlado pelo homem.\n",
    "\n",
    "**Risco não-diversificável, idiossincrático, não-sistemático:** risco que pode ser controlado pelo investidor, como a diversificação."
   ]
  },
  {
   "cell_type": "markdown",
   "id": "accomplished-contrary",
   "metadata": {},
   "source": [
    "### Aula 78: risco diversificável e não-diversificável de um portfólio em python"
   ]
  },
  {
   "cell_type": "code",
   "execution_count": 23,
   "id": "hollywood-arctic",
   "metadata": {},
   "outputs": [],
   "source": [
    "pesos = np.array([0.5, 0.5])"
   ]
  },
  {
   "cell_type": "code",
   "execution_count": 25,
   "id": "european-continent",
   "metadata": {},
   "outputs": [
    {
     "data": {
      "text/plain": [
       "0.5"
      ]
     },
     "execution_count": 25,
     "metadata": {},
     "output_type": "execute_result"
    }
   ],
   "source": [
    "pesos[0]"
   ]
  },
  {
   "cell_type": "code",
   "execution_count": 26,
   "id": "derived-cassette",
   "metadata": {},
   "outputs": [
    {
     "data": {
      "text/plain": [
       "0.5"
      ]
     },
     "execution_count": 26,
     "metadata": {},
     "output_type": "execute_result"
    }
   ],
   "source": [
    "pesos[1]"
   ]
  },
  {
   "cell_type": "markdown",
   "id": "closing-teaching",
   "metadata": {},
   "source": [
    "#### Risco Diversificável\n",
    "\n",
    "$$ risco diversificavel = variancia do portfolio - variancia anual ponderada $$"
   ]
  },
  {
   "cell_type": "code",
   "execution_count": 27,
   "id": "confidential-width",
   "metadata": {},
   "outputs": [
    {
     "data": {
      "text/plain": [
       "PG    0.035099\n",
       "dtype: float64"
      ]
     },
     "execution_count": 27,
     "metadata": {},
     "output_type": "execute_result"
    }
   ],
   "source": [
    "# Variancia anual ponderada para PG\n",
    "PG_var_a = sec_returns[['PG']].var() * 250\n",
    "PG_var_a"
   ]
  },
  {
   "cell_type": "code",
   "execution_count": 28,
   "id": "intermediate-schema",
   "metadata": {},
   "outputs": [
    {
     "data": {
      "text/plain": [
       "BEI.DE    0.047896\n",
       "dtype: float64"
      ]
     },
     "execution_count": 28,
     "metadata": {},
     "output_type": "execute_result"
    }
   ],
   "source": [
    "# Variancia anual ponderada para BEI.DE\n",
    "BEI_var_a = sec_returns[['BEI.DE']].var() * 250\n",
    "BEI_var_a"
   ]
  },
  {
   "cell_type": "code",
   "execution_count": 29,
   "id": "therapeutic-village",
   "metadata": {},
   "outputs": [
    {
     "name": "stdout",
     "output_type": "stream",
     "text": [
      "BEI.DE   NaN\n",
      "PG       NaN\n",
      "dtype: float64\n"
     ]
    }
   ],
   "source": [
    "risco_diversificavel = var_portfolio - (pesos[0] ** 2 * PG_var_a) - (pesos[1] ** 2 * BEI_var_a)\n",
    "\n",
    "print(risco_diversificavel)"
   ]
  },
  {
   "cell_type": "markdown",
   "id": "after-matter",
   "metadata": {},
   "source": [
    "#### Risco não-diversificável"
   ]
  },
  {
   "cell_type": "code",
   "execution_count": 31,
   "id": "measured-domestic",
   "metadata": {},
   "outputs": [],
   "source": [
    "risco_n_diversificavel = var_portfolio - risco_diversificavel"
   ]
  },
  {
   "cell_type": "code",
   "execution_count": 32,
   "id": "current-arrow",
   "metadata": {},
   "outputs": [
    {
     "data": {
      "text/plain": [
       "BEI.DE   NaN\n",
       "PG       NaN\n",
       "dtype: float64"
      ]
     },
     "execution_count": 32,
     "metadata": {},
     "output_type": "execute_result"
    }
   ],
   "source": [
    "risco_n_diversificavel"
   ]
  }
 ],
 "metadata": {
  "kernelspec": {
   "display_name": "Python 3",
   "language": "python",
   "name": "python3"
  },
  "language_info": {
   "codemirror_mode": {
    "name": "ipython",
    "version": 3
   },
   "file_extension": ".py",
   "mimetype": "text/x-python",
   "name": "python",
   "nbconvert_exporter": "python",
   "pygments_lexer": "ipython3",
   "version": "3.8.5"
  }
 },
 "nbformat": 4,
 "nbformat_minor": 5
}
