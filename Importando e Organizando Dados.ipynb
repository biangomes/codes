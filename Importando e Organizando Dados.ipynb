{
 "cells": [
  {
   "cell_type": "markdown",
   "metadata": {},
   "source": [
    "# Importando e Organizando os Dados - Parte 1"
   ]
  },
  {
   "cell_type": "code",
   "execution_count": 1,
   "metadata": {},
   "outputs": [],
   "source": [
    "# Importando as bibliotecas\n",
    "import numpy as np\n",
    "import pandas as pd"
   ]
  },
  {
   "cell_type": "code",
   "execution_count": 2,
   "metadata": {
    "collapsed": true,
    "jupyter": {
     "outputs_hidden": true
    }
   },
   "outputs": [
    {
     "data": {
      "text/plain": [
       "0    0.800209\n",
       "1    0.777669\n",
       "2    0.068185\n",
       "3    0.491373\n",
       "4    0.512469\n",
       "Name: Column 01, dtype: float64"
      ]
     },
     "execution_count": 2,
     "metadata": {},
     "output_type": "execute_result"
    }
   ],
   "source": [
    "# Criando uma série\n",
    "ser = pd.Series(np.random.random(5), name=\"Column 01\")\n",
    "\n",
    "# Visualizando a série\n",
    "ser"
   ]
  },
  {
   "cell_type": "code",
   "execution_count": 3,
   "metadata": {},
   "outputs": [],
   "source": [
    "# Importando dados do pacote datareader\n",
    "from pandas_datareader import data as wb"
   ]
  },
  {
   "cell_type": "code",
   "execution_count": 7,
   "metadata": {},
   "outputs": [
    {
     "name": "stdout",
     "output_type": "stream",
     "text": [
      "<class 'pandas.core.frame.DataFrame'>\n",
      "DatetimeIndex: 6584 entries, 1995-01-03 to 2021-02-25\n",
      "Data columns (total 6 columns):\n",
      " #   Column     Non-Null Count  Dtype  \n",
      "---  ------     --------------  -----  \n",
      " 0   High       6584 non-null   float64\n",
      " 1   Low        6584 non-null   float64\n",
      " 2   Open       6584 non-null   float64\n",
      " 3   Close      6584 non-null   float64\n",
      " 4   Volume     6584 non-null   float64\n",
      " 5   Adj Close  6584 non-null   float64\n",
      "dtypes: float64(6)\n",
      "memory usage: 360.1 KB\n"
     ]
    }
   ],
   "source": [
    "# Extraindo dados do Yahoo Finance\n",
    "PG = wb.DataReader('PG', data_source='yahoo', start='1995-1-1')\n",
    "#  'PG' = ticker"
   ]
  },
  {
   "cell_type": "code",
   "execution_count": 8,
   "metadata": {
    "collapsed": true,
    "jupyter": {
     "outputs_hidden": true
    }
   },
   "outputs": [
    {
     "name": "stdout",
     "output_type": "stream",
     "text": [
      "<class 'pandas.core.frame.DataFrame'>\n",
      "DatetimeIndex: 6584 entries, 1995-01-03 to 2021-02-25\n",
      "Data columns (total 6 columns):\n",
      " #   Column     Non-Null Count  Dtype  \n",
      "---  ------     --------------  -----  \n",
      " 0   High       6584 non-null   float64\n",
      " 1   Low        6584 non-null   float64\n",
      " 2   Open       6584 non-null   float64\n",
      " 3   Close      6584 non-null   float64\n",
      " 4   Volume     6584 non-null   float64\n",
      " 5   Adj Close  6584 non-null   float64\n",
      "dtypes: float64(6)\n",
      "memory usage: 360.1 KB\n"
     ]
    }
   ],
   "source": [
    "# Visualizando o DataFrame\n",
    "PG.head()\n",
    "\n",
    "# Informações sobre o conjunto de dados\n",
    "PG.info()"
   ]
  },
  {
   "cell_type": "code",
   "execution_count": 9,
   "metadata": {},
   "outputs": [],
   "source": [
    "tickers = ['PG', 'MSFT', 'T', 'F', 'GE']\n",
    "new_data = pd.DataFrame()\n",
    "\n",
    "for t in tickers:\n",
    "    new_data[t] = wb.DataReader(t, data_source='yahoo', start='1995-1-1')['Adj Close']"
   ]
  },
  {
   "cell_type": "code",
   "execution_count": 10,
   "metadata": {
    "collapsed": true,
    "jupyter": {
     "outputs_hidden": true
    }
   },
   "outputs": [
    {
     "data": {
      "text/html": [
       "<div>\n",
       "<style scoped>\n",
       "    .dataframe tbody tr th:only-of-type {\n",
       "        vertical-align: middle;\n",
       "    }\n",
       "\n",
       "    .dataframe tbody tr th {\n",
       "        vertical-align: top;\n",
       "    }\n",
       "\n",
       "    .dataframe thead th {\n",
       "        text-align: right;\n",
       "    }\n",
       "</style>\n",
       "<table border=\"1\" class=\"dataframe\">\n",
       "  <thead>\n",
       "    <tr style=\"text-align: right;\">\n",
       "      <th></th>\n",
       "      <th>PG</th>\n",
       "      <th>MSFT</th>\n",
       "      <th>T</th>\n",
       "      <th>F</th>\n",
       "      <th>GE</th>\n",
       "    </tr>\n",
       "    <tr>\n",
       "      <th>Date</th>\n",
       "      <th></th>\n",
       "      <th></th>\n",
       "      <th></th>\n",
       "      <th></th>\n",
       "      <th></th>\n",
       "    </tr>\n",
       "  </thead>\n",
       "  <tbody>\n",
       "    <tr>\n",
       "      <th>2021-02-19</th>\n",
       "      <td>127.120003</td>\n",
       "      <td>240.970001</td>\n",
       "      <td>29.000000</td>\n",
       "      <td>11.58</td>\n",
       "      <td>12.02</td>\n",
       "    </tr>\n",
       "    <tr>\n",
       "      <th>2021-02-22</th>\n",
       "      <td>126.580002</td>\n",
       "      <td>234.509995</td>\n",
       "      <td>29.320000</td>\n",
       "      <td>11.70</td>\n",
       "      <td>12.50</td>\n",
       "    </tr>\n",
       "    <tr>\n",
       "      <th>2021-02-23</th>\n",
       "      <td>127.519997</td>\n",
       "      <td>233.270004</td>\n",
       "      <td>29.180000</td>\n",
       "      <td>11.62</td>\n",
       "      <td>12.59</td>\n",
       "    </tr>\n",
       "    <tr>\n",
       "      <th>2021-02-24</th>\n",
       "      <td>127.660004</td>\n",
       "      <td>234.550003</td>\n",
       "      <td>29.379999</td>\n",
       "      <td>12.27</td>\n",
       "      <td>13.12</td>\n",
       "    </tr>\n",
       "    <tr>\n",
       "      <th>2021-02-25</th>\n",
       "      <td>126.580002</td>\n",
       "      <td>228.990005</td>\n",
       "      <td>28.629999</td>\n",
       "      <td>11.76</td>\n",
       "      <td>12.76</td>\n",
       "    </tr>\n",
       "  </tbody>\n",
       "</table>\n",
       "</div>"
      ],
      "text/plain": [
       "                    PG        MSFT          T      F     GE\n",
       "Date                                                       \n",
       "2021-02-19  127.120003  240.970001  29.000000  11.58  12.02\n",
       "2021-02-22  126.580002  234.509995  29.320000  11.70  12.50\n",
       "2021-02-23  127.519997  233.270004  29.180000  11.62  12.59\n",
       "2021-02-24  127.660004  234.550003  29.379999  12.27  13.12\n",
       "2021-02-25  126.580002  228.990005  28.629999  11.76  12.76"
      ]
     },
     "execution_count": 10,
     "metadata": {},
     "output_type": "execute_result"
    }
   ],
   "source": [
    "# Visualizando o new_data\n",
    "new_data.tail()"
   ]
  }
 ],
 "metadata": {
  "kernelspec": {
   "display_name": "Python 3",
   "language": "python",
   "name": "python3"
  },
  "language_info": {
   "codemirror_mode": {
    "name": "ipython",
    "version": 3
   },
   "file_extension": ".py",
   "mimetype": "text/x-python",
   "name": "python",
   "nbconvert_exporter": "python",
   "pygments_lexer": "ipython3",
   "version": "3.8.5"
  }
 },
 "nbformat": 4,
 "nbformat_minor": 4
}
